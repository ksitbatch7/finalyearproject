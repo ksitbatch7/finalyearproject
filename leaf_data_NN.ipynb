{
  "nbformat": 4,
  "nbformat_minor": 0,
  "metadata": {
    "colab": {
      "name": "Leaf_data_NN.ipynb",
      "provenance": []
    },
    "kernelspec": {
      "name": "python3",
      "display_name": "Python 3"
    }
  },
  "cells": [
    {
      "cell_type": "code",
      "metadata": {
        "id": "-FcP5KQ71hn0",
        "colab_type": "code",
        "colab": {}
      },
      "source": [
        "import subprocess\n",
        "import cv2\n",
        "import keras\n",
        "import numpy as np \n",
        "from google.colab import drive\n",
        "#import plotConfusionMatrix\n",
        "from sklearn.model_selection import train_test_split\n",
        "from sklearn.metrics import f1_score\n",
        "from keras.models import Sequential\n",
        "from keras.models import load_model\n",
        "from keras.layers import Dense, Dropout, Flatten\n",
        "from keras.layers import Convolution2D, MaxPooling2D\n",
        "from keras.callbacks import EarlyStopping, ModelCheckpoint, ReduceLROnPlateau\n",
        "from keras.preprocessing.image import ImageDataGenerator, array_to_img, img_to_array, load_img"
      ],
      "execution_count": 0,
      "outputs": []
    },
    {
      "cell_type": "code",
      "metadata": {
        "id": "stTKd3nd2LY_",
        "colab_type": "code",
        "outputId": "942be7ef-5872-4bde-ccaf-bba60ad56d48",
        "colab": {
          "base_uri": "https://localhost:8080/",
          "height": 34
        }
      },
      "source": [
        "#to mounth google drive as google as google drive has data\n",
        "drive.mount(\"/content/gdrive\", force_remount=True)"
      ],
      "execution_count": 0,
      "outputs": [
        {
          "output_type": "stream",
          "text": [
            "Mounted at /content/gdrive\n"
          ],
          "name": "stdout"
        }
      ]
    },
    {
      "cell_type": "code",
      "metadata": {
        "id": "bvmR5Wcm2itX",
        "colab_type": "code",
        "outputId": "d068bcb0-744e-40f2-b142-d9d94b454951",
        "colab": {
          "base_uri": "https://localhost:8080/",
          "height": 34
        }
      },
      "source": [
        "#listing folders of Google Drive\n",
        "ls '/content/gdrive/My Drive/Leaf_data'"
      ],
      "execution_count": 0,
      "outputs": [
        {
          "output_type": "stream",
          "text": [
            "\u001b[0m\u001b[01;34mearly_blight\u001b[0m/  \u001b[01;34mhealthy\u001b[0m/  \u001b[01;34mLate_blight\u001b[0m/\n"
          ],
          "name": "stdout"
        }
      ]
    },
    {
      "cell_type": "code",
      "metadata": {
        "id": "ThbC5QCm2iwy",
        "colab_type": "code",
        "outputId": "421ec63d-f24b-41aa-ff68-45e7cdc206f7",
        "colab": {
          "base_uri": "https://localhost:8080/",
          "height": 34
        }
      },
      "source": [
        "#obj = plotConfusionMatrix.confusionMatrix()\n",
        "folders = subprocess.check_output(\"ls '/content/gdrive/My Drive/Leaf_data'\", shell=True)\n",
        "folders = folders.decode().split('\\n')\n",
        "folders.pop()"
      ],
      "execution_count": 0,
      "outputs": [
        {
          "output_type": "execute_result",
          "data": {
            "text/plain": [
              "''"
            ]
          },
          "metadata": {
            "tags": []
          },
          "execution_count": 25
        }
      ]
    },
    {
      "cell_type": "code",
      "metadata": {
        "id": "NMAMgjHe3CVK",
        "colab_type": "code",
        "outputId": "493228cb-1e3b-4ac3-fcac-7159293ec420",
        "colab": {
          "base_uri": "https://localhost:8080/",
          "height": 34
        }
      },
      "source": [
        "folders"
      ],
      "execution_count": 0,
      "outputs": [
        {
          "output_type": "execute_result",
          "data": {
            "text/plain": [
              "['early_blight', 'healthy', 'Late_blight']"
            ]
          },
          "metadata": {
            "tags": []
          },
          "execution_count": 26
        }
      ]
    },
    {
      "cell_type": "code",
      "metadata": {
        "id": "5JSTTlGT3G1h",
        "colab_type": "code",
        "outputId": "85e30ec5-09bc-44c3-9685-4d4671fce7e9",
        "colab": {
          "base_uri": "https://localhost:8080/",
          "height": 1000
        }
      },
      "source": [
        "X = []\n",
        "Y = []\n",
        "\n",
        "i = 0\n",
        "for folder in folders:\n",
        "    images = subprocess.check_output(\"ls '/content/gdrive/My Drive/Leaf_data/'\" + str(folder), shell=True)\n",
        "    images = images.decode().split('\\n')\n",
        "    images.pop()\n",
        "    for image in images:\n",
        "        print('/content/gdrive/My Drive/Leaf_data/' + str(folder) + '/' + str(image))\n",
        "        img = cv2.imread('/content/gdrive/My Drive/Leaf_data/' + str(folder) + '/' + str(image))\n",
        "        img = cv2.resize(img,(120,120))\n",
        "        X.append(img)\n",
        "        Y.append(i)\n",
        "    i += 1\n",
        "\n",
        "X = np.array(X)\n",
        "Y = np.array(Y)\n",
        "\n",
        "X = X.astype('float32')\n",
        "X /= 255\n",
        "\n",
        "Y = keras.utils.to_categorical(Y, 3)"
      ],
      "execution_count": 0,
      "outputs": [
        {
          "output_type": "stream",
          "text": [
            "/content/gdrive/My Drive/Leaf_data/early_blight/001187a0-57ab-4329-baff-e7246a9edeb0___RS_Early.B 8178.jpeg\n",
            "/content/gdrive/My Drive/Leaf_data/early_blight/002a55fb-7a3d-4a3a-aca8-ce2d5ebc6925___RS_Early.B 8170.jpeg\n",
            "/content/gdrive/My Drive/Leaf_data/early_blight/009c8c31-f22d-4ffd-8f16-189c6f06c577___RS_Early.B 7885.jpeg\n",
            "/content/gdrive/My Drive/Leaf_data/early_blight/00d8f10f-5038-4e0f-bb58-0b885ddc0cc5___RS_Early.B 8722.jpeg\n",
            "/content/gdrive/My Drive/Leaf_data/early_blight/0182e991-97f0-4805-a1f7-6e1b4306d518___RS_Early.B 7015.jpeg\n",
            "/content/gdrive/My Drive/Leaf_data/early_blight/02578b86-b234-4ac0-9bc3-691b5610e2bf___RS_Early.B 7562.jpeg\n",
            "/content/gdrive/My Drive/Leaf_data/early_blight/0267d4ca-522e-4ca0-b1a2-ce925e5b54a2___RS_Early.B 7020.jpeg\n",
            "/content/gdrive/My Drive/Leaf_data/early_blight/028f9b73-142f-499a-9c7b-d7c1ed5e5506___RS_Early.B 8546.jpeg\n",
            "/content/gdrive/My Drive/Leaf_data/early_blight/034959c1-f1e8-4a79-a6d5-3c1d14efa2f3___RS_Early.B 7136.jpeg\n",
            "/content/gdrive/My Drive/Leaf_data/early_blight/03b0d3c1-b5b0-48f4-98aa-f8904670290f___RS_Early.B 7051.jpeg\n",
            "/content/gdrive/My Drive/Leaf_data/early_blight/042135e2-e126-4900-9212-d42d900b8125___RS_Early.B 8791.jpeg\n",
            "/content/gdrive/My Drive/Leaf_data/early_blight/044c3abc-0bc9-45fb-8fd5-094aeb605f90___RS_Early.B 8044.jpeg\n",
            "/content/gdrive/My Drive/Leaf_data/early_blight/048d18ae-98b1-484d-97da-5a0e69b9ebc1___RS_Early.B 6845.jpeg\n",
            "/content/gdrive/My Drive/Leaf_data/early_blight/04c8e6b9-7710-4cdd-b259-2d78b15d1036___RS_Early.B 7066.jpeg\n",
            "/content/gdrive/My Drive/Leaf_data/early_blight/04ee51b6-07e2-4182-84f8-46b22c8938a2___RS_Early.B 8091.jpeg\n",
            "/content/gdrive/My Drive/Leaf_data/early_blight/04fd2a46-ddd4-4b0b-8f19-5ecca482a7d5___RS_Early.B 7273.jpeg\n",
            "/content/gdrive/My Drive/Leaf_data/early_blight/05c35093-11b8-4cd0-b67a-148859754440___RS_Early.B 8939.jpeg\n",
            "/content/gdrive/My Drive/Leaf_data/early_blight/0604174e-3018-4faa-9975-0be32d2c0789___RS_Early.B 7123.jpeg\n",
            "/content/gdrive/My Drive/Leaf_data/early_blight/060fd5a7-1606-4a59-895b-604c90d6b414___RS_Early.B 7205.jpeg\n",
            "/content/gdrive/My Drive/Leaf_data/early_blight/065fc68f-88c9-4fc3-b0a6-a6f5e1072eaa___RS_Early.B 7174.jpeg\n",
            "/content/gdrive/My Drive/Leaf_data/healthy/00fc2ee5-729f-4757-8aeb-65c3355874f2___RS_HL 1864.jpeg\n",
            "/content/gdrive/My Drive/Leaf_data/healthy/03da9931-e514-4cc7-b04a-8f474a133ce5___RS_HL 1830.jpeg\n",
            "/content/gdrive/My Drive/Leaf_data/healthy/04481ca2-f94c-457e-b785-1ac05800b7ec___RS_HL 1930.jpeg\n",
            "/content/gdrive/My Drive/Leaf_data/healthy/046641c1-f837-49eb-b5f2-4109910a027c___RS_HL 1878.jpeg\n",
            "/content/gdrive/My Drive/Leaf_data/healthy/07dfb451-4378-49d1-b699-33a5fc49ff07___RS_HL 5399.jpeg\n",
            "/content/gdrive/My Drive/Leaf_data/healthy/0b3e5032-8ae8-49ac-8157-a1cac3df01dd___RS_HL 1817.jpeg\n",
            "/content/gdrive/My Drive/Leaf_data/healthy/0be9d721-82f5-42c3-b535-7494afe01dbe___RS_HL 1814.jpeg\n",
            "/content/gdrive/My Drive/Leaf_data/healthy/1106c3fc-92cb-41a6-a6c6-8f08b9b45108___RS_HL 1914.jpeg\n",
            "/content/gdrive/My Drive/Leaf_data/healthy/111cd9d8-4d27-4225-be9e-d29b21cf56b9___RS_HL 5419 (2).jpeg\n",
            "/content/gdrive/My Drive/Leaf_data/healthy/111cd9d8-4d27-4225-be9e-d29b21cf56b9___RS_HL 5419.jpeg\n",
            "/content/gdrive/My Drive/Leaf_data/healthy/142fb983-2166-4a0f-b99b-a6c21e99987e___RS_HL 5398.jpeg\n",
            "/content/gdrive/My Drive/Leaf_data/healthy/14484ea5-9c34-427c-abe4-2743265aced0___RS_HL 4204.jpeg\n",
            "/content/gdrive/My Drive/Leaf_data/healthy/144d2475-21ab-4bdc-a67c-9672a9b711e6___RS_HL 5376.jpeg\n",
            "/content/gdrive/My Drive/Leaf_data/healthy/163ada72-4288-4f85-a3c1-feed23c8d1de___RS_HL 1940.jpeg\n",
            "/content/gdrive/My Drive/Leaf_data/healthy/170f1f57-0fd4-421f-9c82-3b1804be63ad___RS_HL 1771.jpeg\n",
            "/content/gdrive/My Drive/Leaf_data/healthy/1a1184f8-c414-4ead-a4c4-41ae78e29a82___RS_HL 1971.jpeg\n",
            "/content/gdrive/My Drive/Leaf_data/healthy/1ae826e2-5148-47bd-a44c-711ec9cc9c75___RS_HL 1954.jpeg\n",
            "/content/gdrive/My Drive/Leaf_data/healthy/1b434c52-7be4-40c4-90d5-13220f1a3eba___RS_HL 5418.jpeg\n",
            "/content/gdrive/My Drive/Leaf_data/healthy/1dcfeaa9-006d-470c-b3e5-d67609d07d4e___RS_HL 1808.jpeg\n",
            "/content/gdrive/My Drive/Leaf_data/healthy/1f9870b3-899e-46fb-98c9-cfc2ce92895b___RS_HL 1816.jpeg\n",
            "/content/gdrive/My Drive/Leaf_data/Late_blight/0051e5e8-d1c4-4a84-bf3a-a426cdad6285___RS_LB 4640.jpeg\n",
            "/content/gdrive/My Drive/Leaf_data/Late_blight/00695906-210d-4a9d-822e-986a17384115___RS_LB 4026.jpeg\n",
            "/content/gdrive/My Drive/Leaf_data/Late_blight/006cc01a-1888-4326-9b62-a65cb55a6377___RS_LB 5207.jpeg\n",
            "/content/gdrive/My Drive/Leaf_data/Late_blight/0085ef03-aec3-431a-99a1-de286e10c0cf___RS_LB 2949.jpeg\n",
            "/content/gdrive/My Drive/Leaf_data/Late_blight/00b1f292-23dd-44d4-aad3-c1ffb6a6ad5a___RS_LB 4479.jpeg\n",
            "/content/gdrive/My Drive/Leaf_data/Late_blight/0114b195-844c-4978-93a9-b0d5aae010f1___RS_LB 2738.jpeg\n",
            "/content/gdrive/My Drive/Leaf_data/Late_blight/01270f5c-a44b-4da7-9398-289088c197ab___RS_LB 2517.jpeg\n",
            "/content/gdrive/My Drive/Leaf_data/Late_blight/01a8cc9f-074a-4866-87c8-bb5a9e3895b4___RS_LB 2968.jpeg\n",
            "/content/gdrive/My Drive/Leaf_data/Late_blight/01ad74ce-eb28-42c7-9204-778d17cfd45c___RS_LB 2669.jpeg\n",
            "/content/gdrive/My Drive/Leaf_data/Late_blight/0201bf8e-27e3-4c92-ae97-2fb4f665b5d3___RS_LB 4320.jpeg\n",
            "/content/gdrive/My Drive/Leaf_data/Late_blight/02212653-e92b-49aa-96b7-9497af51e502___RS_LB 3151.jpeg\n",
            "/content/gdrive/My Drive/Leaf_data/Late_blight/02282fee-ba3f-460e-91e0-630204ab96c2___RS_LB 5031.jpeg\n",
            "/content/gdrive/My Drive/Leaf_data/Late_blight/025f3c76-6d6c-4dad-ba22-e3e72d084ef1___RS_LB 3105.jpeg\n",
            "/content/gdrive/My Drive/Leaf_data/Late_blight/02c8ff21-4e0a-4326-ba8f-089e5cb45b74___RS_LB 4089.jpeg\n",
            "/content/gdrive/My Drive/Leaf_data/Late_blight/030e8945-d3ce-4ad3-8a91-a14c18285249___RS_LB 2532.jpeg\n",
            "/content/gdrive/My Drive/Leaf_data/Late_blight/031672c9-bf0a-46bf-8b52-d7cdc067612e___RS_LB 5019.jpeg\n",
            "/content/gdrive/My Drive/Leaf_data/Late_blight/031c39d3-9a91-4e81-85ac-b36512133b0a___RS_LB 5220.jpeg\n",
            "/content/gdrive/My Drive/Leaf_data/Late_blight/034a54f1-e3e9-4524-a318-9d253d9f1394___RS_LB 2893.jpeg\n",
            "/content/gdrive/My Drive/Leaf_data/Late_blight/0396e413-e165-427a-ba72-04cbae7b8ab0___RS_LB 4751.jpeg\n",
            "/content/gdrive/My Drive/Leaf_data/Late_blight/03bab48b-962b-4c08-bc98-da95237d20ac___RS_LB 3190.jpeg\n"
          ],
          "name": "stdout"
        }
      ]
    },
    {
      "cell_type": "code",
      "metadata": {
        "id": "tRjWLFgb48xe",
        "colab_type": "code",
        "colab": {}
      },
      "source": [
        "datagen = ImageDataGenerator(\n",
        "    featurewise_center=True,\n",
        "    featurewise_std_normalization=True,\n",
        "    rotation_range=20,\n",
        "    width_shift_range=0.2,\n",
        "    height_shift_range=0.2,\n",
        "    horizontal_flip=True)\n",
        "\n",
        "xtrain, xtest, ytrain, ytest = train_test_split(X, Y, test_size=0.15, stratify=Y, random_state=42)\n",
        "#print(xtrain[1])\n",
        "datagen.fit(xtrain)"
      ],
      "execution_count": 0,
      "outputs": []
    },
    {
      "cell_type": "code",
      "metadata": {
        "id": "5iIu7WEG5Ds-",
        "colab_type": "code",
        "colab": {}
      },
      "source": [
        "model = Sequential()\n",
        "\n",
        "model.add(Convolution2D(32, (3, 3), activation='relu',input_shape = xtrain.shape[1:]))\n",
        "model.add(Convolution2D(32, (3, 3), activation='relu'))  \n",
        "model.add(MaxPooling2D(pool_size=(2,2)))\n",
        "model.add(Dropout(0.2))\n",
        "\n",
        "model.add(Convolution2D(64, (3, 3), activation='relu'))\n",
        "model.add(MaxPooling2D(pool_size=(2,2)))\n",
        "model.add(Dropout(0.2))\n",
        "\n",
        "model.add(Convolution2D(128, (3, 3), activation='relu'))\n",
        "model.add(MaxPooling2D(pool_size=(2,2)))\n",
        "model.add(Dropout(0.2))\n",
        " \n",
        "model.add(Flatten())\n",
        "model.add(Dense(256, activation='relu'))\n",
        "model.add(Dropout(0.2))\n",
        "\n",
        "model.add(Dense(3, activation='sigmoid'))\n",
        "\n",
        "\n",
        "model.compile(loss='binary_crossentropy', \n",
        "              optimizer='adam', \n",
        "              metrics=['accuracy'])\n",
        "\n",
        "early_stopping = EarlyStopping(patience=5, verbose=1)\n",
        "model_checkpoint = ModelCheckpoint(\"'/content/gdrive/My Drive/Leaf_data/model.h1'\", save_best_only=True, verbose=1)\n",
        "reduce_lr = ReduceLROnPlateau(factor=0.1, patience=2, min_lr=0.00001, verbose=1)"
      ],
      "execution_count": 0,
      "outputs": []
    },
    {
      "cell_type": "code",
      "metadata": {
        "id": "LvEZUTlz3bho",
        "colab_type": "code",
        "outputId": "a7ec273d-d83b-407d-c1ca-2754cb5f5211",
        "colab": {
          "base_uri": "https://localhost:8080/",
          "height": 1000
        }
      },
      "source": [
        "model.fit(xtrain, ytrain, shuffle=True, batch_size=30, epochs=30,callbacks=[early_stopping, model_checkpoint, reduce_lr], verbose=1)"
      ],
      "execution_count": 0,
      "outputs": [
        {
          "output_type": "stream",
          "text": [
            "Epoch 1/30\n",
            "51/51 [==============================] - 4s 76ms/step - loss: 0.8202 - acc: 0.6078\n",
            "Epoch 2/30\n"
          ],
          "name": "stdout"
        },
        {
          "output_type": "stream",
          "text": [
            "/usr/local/lib/python3.6/dist-packages/keras/callbacks.py:842: RuntimeWarning: Early stopping conditioned on metric `val_loss` which is not available. Available metrics are: loss,acc\n",
            "  (self.monitor, ','.join(list(logs.keys()))), RuntimeWarning\n",
            "/usr/local/lib/python3.6/dist-packages/keras/callbacks.py:707: RuntimeWarning: Can save best model only with val_loss available, skipping.\n",
            "  'skipping.' % (self.monitor), RuntimeWarning)\n",
            "/usr/local/lib/python3.6/dist-packages/keras/callbacks.py:1379: RuntimeWarning: Reduce LR on plateau conditioned on metric `val_loss` which is not available. Available metrics are: loss,acc,lr\n",
            "  (self.monitor, ','.join(list(logs.keys()))), RuntimeWarning\n"
          ],
          "name": "stderr"
        },
        {
          "output_type": "stream",
          "text": [
            "51/51 [==============================] - 3s 56ms/step - loss: 0.6816 - acc: 0.5556\n",
            "Epoch 3/30\n",
            "51/51 [==============================] - 3s 56ms/step - loss: 0.6836 - acc: 0.5556\n",
            "Epoch 4/30\n",
            "51/51 [==============================] - 3s 56ms/step - loss: 0.6701 - acc: 0.6667\n",
            "Epoch 5/30\n",
            "51/51 [==============================] - 3s 55ms/step - loss: 0.6459 - acc: 0.6667\n",
            "Epoch 6/30\n",
            "51/51 [==============================] - 3s 56ms/step - loss: 0.6342 - acc: 0.6667\n",
            "Epoch 7/30\n",
            "51/51 [==============================] - 3s 56ms/step - loss: 0.6311 - acc: 0.6667\n",
            "Epoch 8/30\n",
            "51/51 [==============================] - 3s 55ms/step - loss: 0.6269 - acc: 0.6667\n",
            "Epoch 9/30\n",
            "51/51 [==============================] - 3s 55ms/step - loss: 0.6218 - acc: 0.6667\n",
            "Epoch 10/30\n",
            "51/51 [==============================] - 3s 56ms/step - loss: 0.6036 - acc: 0.6667\n",
            "Epoch 11/30\n",
            "51/51 [==============================] - 3s 55ms/step - loss: 0.5874 - acc: 0.6928\n",
            "Epoch 12/30\n",
            "51/51 [==============================] - 3s 55ms/step - loss: 0.5537 - acc: 0.6797\n",
            "Epoch 13/30\n",
            "51/51 [==============================] - 3s 55ms/step - loss: 0.5395 - acc: 0.7190\n",
            "Epoch 14/30\n",
            "51/51 [==============================] - 3s 56ms/step - loss: 0.5240 - acc: 0.7255\n",
            "Epoch 15/30\n",
            "51/51 [==============================] - 3s 55ms/step - loss: 0.4857 - acc: 0.7843\n",
            "Epoch 16/30\n",
            "51/51 [==============================] - 3s 56ms/step - loss: 0.3944 - acc: 0.8039\n",
            "Epoch 17/30\n",
            "51/51 [==============================] - 3s 56ms/step - loss: 0.4120 - acc: 0.7974\n",
            "Epoch 18/30\n",
            "51/51 [==============================] - 3s 55ms/step - loss: 0.3650 - acc: 0.8301\n",
            "Epoch 19/30\n",
            "51/51 [==============================] - 3s 55ms/step - loss: 0.3273 - acc: 0.8431\n",
            "Epoch 20/30\n",
            "51/51 [==============================] - 3s 55ms/step - loss: 0.2580 - acc: 0.8889\n",
            "Epoch 21/30\n",
            "51/51 [==============================] - 3s 56ms/step - loss: 0.2674 - acc: 0.8693\n",
            "Epoch 22/30\n",
            "51/51 [==============================] - 3s 56ms/step - loss: 0.2397 - acc: 0.9085\n",
            "Epoch 23/30\n",
            "51/51 [==============================] - 3s 56ms/step - loss: 0.2300 - acc: 0.9085\n",
            "Epoch 24/30\n",
            "51/51 [==============================] - 3s 56ms/step - loss: 0.1899 - acc: 0.9281\n",
            "Epoch 25/30\n",
            "51/51 [==============================] - 3s 56ms/step - loss: 0.2240 - acc: 0.9020\n",
            "Epoch 26/30\n",
            "51/51 [==============================] - 3s 55ms/step - loss: 0.2116 - acc: 0.9085\n",
            "Epoch 27/30\n",
            "51/51 [==============================] - 3s 56ms/step - loss: 0.2386 - acc: 0.9150\n",
            "Epoch 28/30\n",
            "51/51 [==============================] - 3s 56ms/step - loss: 0.1727 - acc: 0.9346\n",
            "Epoch 29/30\n",
            "51/51 [==============================] - 3s 56ms/step - loss: 0.1979 - acc: 0.9085\n",
            "Epoch 30/30\n",
            "51/51 [==============================] - 3s 56ms/step - loss: 0.1250 - acc: 0.9608\n"
          ],
          "name": "stdout"
        },
        {
          "output_type": "execute_result",
          "data": {
            "text/plain": [
              "<keras.callbacks.History at 0x7f67d0eefda0>"
            ]
          },
          "metadata": {
            "tags": []
          },
          "execution_count": 30
        }
      ]
    },
    {
      "cell_type": "code",
      "metadata": {
        "id": "NYemS4sb6Yi1",
        "colab_type": "code",
        "outputId": "50ebb0da-d601-4e13-aefb-99d719920219",
        "colab": {
          "base_uri": "https://localhost:8080/",
          "height": 52
        }
      },
      "source": [
        "score = model.evaluate(xtest, ytest)\n",
        "print('Test Accuracy = ' + str(score[1]))"
      ],
      "execution_count": 0,
      "outputs": [
        {
          "output_type": "stream",
          "text": [
            "\r9/9 [==============================] - 0s 32ms/step\n",
            "Test Accuracy = 0.7407407164573669\n"
          ],
          "name": "stdout"
        }
      ]
    },
    {
      "cell_type": "code",
      "metadata": {
        "id": "SUbEiYdi6aDr",
        "colab_type": "code",
        "colab": {}
      },
      "source": [
        "#prediction for single image\n",
        "x = []\n",
        "img_1 = cv2.imread('/content/gdrive/My Drive/Leaf_data/img.jpg')\n",
        "img_1 = cv2.resize(img,(120,120))\n",
        "x.append(img)\n",
        "x= np.array(x)\n",
        "x = x.astype('float32')\n",
        "x/= 255"
      ],
      "execution_count": 0,
      "outputs": []
    },
    {
      "cell_type": "code",
      "metadata": {
        "id": "xE0MU1Dn8NZn",
        "colab_type": "code",
        "outputId": "94d185c8-5d49-450e-ae35-4c7a393a556f",
        "colab": {
          "base_uri": "https://localhost:8080/",
          "height": 34
        }
      },
      "source": [
        "result = model.predict(x)\n",
        "print(np.argmax(result[0]))"
      ],
      "execution_count": 0,
      "outputs": [
        {
          "output_type": "stream",
          "text": [
            "0\n"
          ],
          "name": "stdout"
        }
      ]
    }
  ]
}